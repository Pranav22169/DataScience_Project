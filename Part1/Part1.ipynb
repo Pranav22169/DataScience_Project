{
 "cells": [
  {
   "cell_type": "code",
   "execution_count": 1,
   "id": "959b7a50-c738-41ef-91b9-267654dc07b2",
   "metadata": {},
   "outputs": [
    {
     "name": "stdout",
     "output_type": "stream",
     "text": [
      "Accuracy Score:  0.9845360824742269\n"
     ]
    }
   ],
   "source": [
    "#Part1(Accuracy score) for Ola dataset\n",
    "import pandas as pd\n",
    "from sklearn.feature_extraction.text import CountVectorizer\n",
    "from nltk.tokenize import RegexpTokenizer\n",
    "from sklearn.model_selection import train_test_split\n",
    "from sklearn.naive_bayes import MultinomialNB\n",
    "from sklearn import metrics\n",
    "import warnings\n",
    "\n",
    "# Suppress warnings related to token_pattern\n",
    "warnings.filterwarnings(\"ignore\", category=UserWarning, module='sklearn.feature_extraction.text')\n",
    "\n",
    "# Load the dataset\n",
    "df = pd.read_excel(r\"C:\\Users\\prabi\\OneDrive\\Desktop\\V sem\\FDS_project\\Datasets\\Ola.xlsx\")\n",
    "\n",
    "# Fill missing values in the 'Comment' column\n",
    "df['Comment'] = df['Comment'].fillna('Unfriendly Driver')\n",
    "\n",
    "# Pre-processing and Bag of Words Vectorization using CountVectorizer\n",
    "token = RegexpTokenizer(r'[a-zA-Z0-9]+')\n",
    "cv = CountVectorizer(stop_words='english', ngram_range=(1, 1), tokenizer=token.tokenize)\n",
    "text_counts = cv.fit_transform(df['Comment'])\n",
    "\n",
    "# Splitting the data into training and testing sets\n",
    "X_train, X_test, Y_train, Y_test = train_test_split(text_counts, df['Outcome'], test_size=0.25, random_state=5)\n",
    "\n",
    "# Training the model\n",
    "MNB = MultinomialNB()\n",
    "MNB.fit(X_train, Y_train)\n",
    "\n",
    "# Calculating the accuracy score of the model\n",
    "predicted = MNB.predict(X_test)\n",
    "accuracy_score = metrics.accuracy_score(Y_test, predicted)\n",
    "print(\"Accuracy Score: \", accuracy_score)\n"
   ]
  },
  {
   "cell_type": "code",
   "execution_count": 2,
   "id": "00c3fbc5-b53e-4ba5-87f8-df549f821b9f",
   "metadata": {},
   "outputs": [
    {
     "name": "stdout",
     "output_type": "stream",
     "text": [
      "Accuracy Score:  0.9502762430939227\n"
     ]
    }
   ],
   "source": [
    "#Part1(Accuracy score) for Uber dataset\n",
    "import pandas as pd\n",
    "from sklearn.feature_extraction.text import CountVectorizer\n",
    "from nltk.tokenize import RegexpTokenizer\n",
    "from sklearn.model_selection import train_test_split\n",
    "from sklearn.naive_bayes import MultinomialNB\n",
    "from sklearn import metrics\n",
    "import warnings\n",
    "\n",
    "# Suppress warnings related to token_pattern\n",
    "warnings.filterwarnings(\"ignore\", category=UserWarning, module='sklearn.feature_extraction.text')\n",
    "\n",
    "# Load the dataset\n",
    "df = pd.read_excel(r\"C:\\Users\\prabi\\OneDrive\\Desktop\\V sem\\FDS_project\\Datasets\\Uber.xlsx\")\n",
    "\n",
    "# Fill missing values in the 'Comment' column\n",
    "df['Comment'] = df['Comment'].fillna('Unfriendly Driver')\n",
    "\n",
    "# Pre-processing and Bag of Words Vectorization using CountVectorizer\n",
    "token = RegexpTokenizer(r'[a-zA-Z0-9]+')\n",
    "cv = CountVectorizer(stop_words='english', ngram_range=(1, 1), tokenizer=token.tokenize)\n",
    "text_counts = cv.fit_transform(df['Comment'])\n",
    "\n",
    "# Splitting the data into training and testing sets\n",
    "X_train, X_test, Y_train, Y_test = train_test_split(text_counts, df['Outcome'], test_size=0.25, random_state=5)\n",
    "\n",
    "# Training the model\n",
    "MNB = MultinomialNB()\n",
    "MNB.fit(X_train, Y_train)\n",
    "\n",
    "# Calculating the accuracy score of the model\n",
    "predicted = MNB.predict(X_test)\n",
    "accuracy_score = metrics.accuracy_score(Y_test, predicted)\n",
    "print(\"Accuracy Score: \", accuracy_score)\n"
   ]
  },
  {
   "cell_type": "code",
   "execution_count": 3,
   "id": "29125275-326b-494f-9e4c-693f12772f7d",
   "metadata": {},
   "outputs": [
    {
     "name": "stdout",
     "output_type": "stream",
     "text": [
      "Accuracy Score:  0.88\n"
     ]
    }
   ],
   "source": [
    "#Part1(Accuracy score) for Rapido Dataset\n",
    "import pandas as pd\n",
    "from sklearn.feature_extraction.text import CountVectorizer\n",
    "from nltk.tokenize import RegexpTokenizer\n",
    "from sklearn.model_selection import train_test_split\n",
    "from sklearn.naive_bayes import MultinomialNB\n",
    "from sklearn import metrics\n",
    "import warnings\n",
    "\n",
    "# Suppress warnings related to token_pattern\n",
    "warnings.filterwarnings(\"ignore\", category=UserWarning, module='sklearn.feature_extraction.text')\n",
    "\n",
    "# Load the dataset\n",
    "df = pd.read_excel(r\"C:\\Users\\prabi\\OneDrive\\Desktop\\V sem\\FDS_project\\Datasets\\Rapido1.xlsx\")\n",
    "\n",
    "# Fill missing values in the 'Comment' column\n",
    "df['Comment'] = df['Comment'].fillna('Unfriendly Driver')\n",
    "\n",
    "# Pre-processing and Bag of Words Vectorization using CountVectorizer\n",
    "token = RegexpTokenizer(r'[a-zA-Z0-9]+')\n",
    "cv = CountVectorizer(stop_words='english', ngram_range=(1, 1), tokenizer=token.tokenize)\n",
    "text_counts = cv.fit_transform(df['Comment'])\n",
    "\n",
    "# Splitting the data into training and testing sets\n",
    "X_train, X_test, Y_train, Y_test = train_test_split(text_counts, df['Outcome'], test_size=0.25, random_state=5)\n",
    "\n",
    "# Training the model\n",
    "MNB = MultinomialNB()\n",
    "MNB.fit(X_train, Y_train)\n",
    "\n",
    "# Calculating the accuracy score of the model\n",
    "predicted = MNB.predict(X_test)\n",
    "accuracy_score = metrics.accuracy_score(Y_test, predicted)\n",
    "print(\"Accuracy Score: \", accuracy_score)\n"
   ]
  },
  {
   "cell_type": "code",
   "execution_count": null,
   "id": "16e60002-345e-4ac6-b3d3-f0c2fde81ccf",
   "metadata": {},
   "outputs": [],
   "source": []
  }
 ],
 "metadata": {
  "kernelspec": {
   "display_name": "Python 3 (ipykernel)",
   "language": "python",
   "name": "python3"
  },
  "language_info": {
   "codemirror_mode": {
    "name": "ipython",
    "version": 3
   },
   "file_extension": ".py",
   "mimetype": "text/x-python",
   "name": "python",
   "nbconvert_exporter": "python",
   "pygments_lexer": "ipython3",
   "version": "3.10.7"
  }
 },
 "nbformat": 4,
 "nbformat_minor": 5
}
